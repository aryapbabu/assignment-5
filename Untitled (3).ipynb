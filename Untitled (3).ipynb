{
 "cells": [
  {
   "cell_type": "code",
   "execution_count": null,
   "id": "6af93e83-188a-42a2-a8f4-046658898f46",
   "metadata": {},
   "outputs": [],
   "source": [
    "string = input (\"jesus\")\n",
    "print (string [: : -1])"
   ]
  },
  {
   "cell_type": "code",
   "execution_count": null,
   "id": "0388e99b-70de-4573-bcfa-1942b66189b8",
   "metadata": {},
   "outputs": [],
   "source": [
    "var 1= 'USA'\n",
    "var 2= 'SISTER'\n",
    "print = i have 'v2' and she stay at 'var1' with her husband"
   ]
  },
  {
   "cell_type": "code",
   "execution_count": null,
   "id": "449955e2-c8fd-4631-9a78-7bdadc5a382d",
   "metadata": {},
   "outputs": [],
   "source": [
    "NAME      = str ( input (\"Enter the name : \"))\n",
    "AGE       = str (input ( \"Enter the age : \"))\n",
    "statement = str ( input (\" ypu can access to this program \")\n",
    " print (\"hello \", NAME)\n",
    "  print (\"you are \" age \" old name \")\n",
    "                 print (\"ststement \")"
   ]
  },
  {
   "cell_type": "code",
   "execution_count": null,
   "id": "23ff5aeb-b132-4ccb-b7a8-070bc5ee1d4b",
   "metadata": {},
   "outputs": [],
   "source": [
    "name _ list_1 = set ([\" rahul\",\"rohan\",\"manu\"])\n",
    "name_ list_2 = set ([\"varun \", \"manu\"])\n",
    "print (\"/n difference of name_ list _1 and name _ list_2:\")"
   ]
  },
  {
   "cell_type": "code",
   "execution_count": null,
   "id": "60a29626-b7a4-495e-98c1-5b3731fafb2a",
   "metadata": {},
   "outputs": [],
   "source": [
    "a= python \n",
    "b= a*3\n",
    "print (f \" original string is : {a})\n",
    "       print (f\"new string is :{b})"
   ]
  },
  {
   "cell_type": "code",
   "execution_count": null,
   "id": "aca4f703-2eaa-4673-842e-80c5cf4848a0",
   "metadata": {},
   "outputs": [],
   "source": [
    "height = float (input(\"enter the height in meters :\"))\n",
    "weight = float (input (\"enter the weight in kg :\"))\n",
    "bmi = weight / height**2\n",
    "print (\"bmi\")"
   ]
  },
  {
   "cell_type": "code",
   "execution_count": null,
   "id": "352d7224-9c9b-4345-a7e4-b8b258af826c",
   "metadata": {},
   "outputs": [],
   "source": [
    "string = input (\"enter a string : \")\n",
    "counter =0\n",
    "for s in string :\n",
    "    counter = counter+ 1\n",
    "    print (\"length of the input string is : \" counter)"
   ]
  },
  {
   "cell_type": "code",
   "execution_count": null,
   "id": "2ab88ee4-6bb6-4e14-b8ff-6fefaa6cc62c",
   "metadata": {},
   "outputs": [],
   "source": [
    "s= (\" carlsen checkmated by vishy anand :\")\n",
    "word = \"checkmate\"\n",
    "if ( is word ptrsent (s, word)):\n",
    "    print (\"yes\")\n",
    "    else :\n",
    "        print (\"no\")"
   ]
  },
  {
   "cell_type": "code",
   "execution_count": null,
   "id": "ca10801c-fda1-4178-ad6f-225dd81ae4b4",
   "metadata": {},
   "outputs": [],
   "source": [
    "a= input (\" a, e, i, o,u\")\n",
    "print ( \"hello, have a good day \")\n",
    "res=[]\n",
    "for i in a :\n",
    "    if i in \"a, e, i, o,u \"\n",
    "    res .extend i\n",
    "    res= \"join\" (res)\n",
    "    print (string after the consonants removal :\"= str (res))"
   ]
  },
  {
   "cell_type": "code",
   "execution_count": null,
   "id": "88df45fc-c7ba-40e5-af66-7d57a937aa86",
   "metadata": {},
   "outputs": [],
   "source": [
    "my_ str = input (enter the string :\")\n",
    " words= my_ str. split ()\n",
    " words. sort()\n",
    "                 for words in words \n",
    "                 print (word)"
   ]
  },
  {
   "cell_type": "code",
   "execution_count": null,
   "id": "a8d03892-0351-4ad7-9194-202e18720ff6",
   "metadata": {},
   "outputs": [],
   "source": []
  },
  {
   "cell_type": "code",
   "execution_count": null,
   "id": "1d83c493-19f6-4f0b-b2c0-0690c0194585",
   "metadata": {},
   "outputs": [],
   "source": []
  },
  {
   "cell_type": "code",
   "execution_count": null,
   "id": "60116cc6-e043-454e-8988-4630b67eb427",
   "metadata": {},
   "outputs": [],
   "source": []
  },
  {
   "cell_type": "code",
   "execution_count": null,
   "id": "40196621-2cf5-4d40-af6b-85152c4a6912",
   "metadata": {},
   "outputs": [],
   "source": []
  },
  {
   "cell_type": "code",
   "execution_count": null,
   "id": "08aadc14-ef69-4ce4-9404-0de67a456c35",
   "metadata": {},
   "outputs": [],
   "source": []
  },
  {
   "cell_type": "code",
   "execution_count": null,
   "id": "9d8c6811-819c-4160-b9c0-f38335955835",
   "metadata": {},
   "outputs": [],
   "source": []
  },
  {
   "cell_type": "code",
   "execution_count": null,
   "id": "184a93bc-c565-40fa-a9b4-eb49f78672a9",
   "metadata": {},
   "outputs": [],
   "source": []
  },
  {
   "cell_type": "code",
   "execution_count": null,
   "id": "0bbc918c-fdc9-4f47-add6-f51438274d21",
   "metadata": {},
   "outputs": [],
   "source": []
  }
 ],
 "metadata": {
  "kernelspec": {
   "display_name": "Python 3",
   "language": "python",
   "name": "python3"
  },
  "language_info": {
   "codemirror_mode": {
    "name": "ipython",
    "version": 3
   },
   "file_extension": ".py",
   "mimetype": "text/x-python",
   "name": "python",
   "nbconvert_exporter": "python",
   "pygments_lexer": "ipython3",
   "version": "3.7.8"
  }
 },
 "nbformat": 4,
 "nbformat_minor": 5
}
